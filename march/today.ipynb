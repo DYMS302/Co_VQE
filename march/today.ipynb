{
 "cells": [
  {
   "attachments": {},
   "cell_type": "markdown",
   "metadata": {},
   "source": [
    "### 算 $H_2$的分子基态能量 使用uccsd方法"
   ]
  },
  {
   "cell_type": "code",
   "execution_count": 2,
   "metadata": {},
   "outputs": [],
   "source": [
    "from qiskit_nature.second_q.circuit.library import UCCSD,HartreeFock\n",
    "from qiskit_nature.second_q.drivers import PySCFDriver\n",
    "from qiskit_nature.second_q.formats import MoleculeInfo\n",
    "from qiskit_nature.second_q.mappers import JordanWignerMapper, QubitConverter"
   ]
  },
  {
   "cell_type": "code",
   "execution_count": 3,
   "metadata": {},
   "outputs": [],
   "source": [
    "molecule = MoleculeInfo(\n",
    "    #[\"H\", \"H\",\"H\",\"H\"], [(0.0, 0.0, 0.0), (0.0, 0.0, 0.9), (0.0, 0.0, 0.9*2), (0.0, 0.0, 0.9*3)],\n",
    "    [\"H\", \"H\"], [(0.0, 0.0, 0.0), (0.0, 0.0, 0.9),],\n",
    "    multiplicity=1,  # = 2*spin + 1\n",
    "    charge=0,\n",
    ")\n",
    "driver = PySCFDriver().from_molecule(molecule)\n",
    "problem = driver.run()\n",
    "converter = QubitConverter(JordanWignerMapper())"
   ]
  },
  {
   "cell_type": "code",
   "execution_count": 6,
   "metadata": {},
   "outputs": [
    {
     "data": {
      "text/plain": [
       "2.5478902748000007"
      ]
     },
     "execution_count": 6,
     "metadata": {},
     "output_type": "execute_result"
    }
   ],
   "source": [
    "problem.nuclear_repulsion_energy # background part "
   ]
  },
  {
   "cell_type": "code",
   "execution_count": null,
   "metadata": {},
   "outputs": [],
   "source": [
    "uccsd =UCCSD(num_spatial_orbitals=problem.num_spatial_orbitals,\n",
    "             num_particles=problem.num_particles,\n",
    "             qubit_converter=converter,\n",
    "             initial_state=None)\n",
    "uccsd.d2).draw(\"mpl\")"
   ]
  },
  {
   "cell_type": "code",
   "execution_count": 4,
   "metadata": {},
   "outputs": [
    {
     "data": {
      "text/plain": [
       "[((0,), (1,)), ((2,), (3,)), ((0, 2), (1, 3))]"
      ]
     },
     "execution_count": 4,
     "metadata": {},
     "output_type": "execute_result"
    }
   ],
   "source": [
    "uccsd.excitation_list"
   ]
  },
  {
   "cell_type": "code",
   "execution_count": null,
   "metadata": {},
   "outputs": [],
   "source": []
  }
 ],
 "metadata": {
  "kernelspec": {
   "display_name": "Python 3",
   "language": "python",
   "name": "python3"
  },
  "language_info": {
   "codemirror_mode": {
    "name": "ipython",
    "version": 3
   },
   "file_extension": ".py",
   "mimetype": "text/x-python",
   "name": "python",
   "nbconvert_exporter": "python",
   "pygments_lexer": "ipython3",
   "version": "3.10.4"
  },
  "orig_nbformat": 4
 },
 "nbformat": 4,
 "nbformat_minor": 2
}
