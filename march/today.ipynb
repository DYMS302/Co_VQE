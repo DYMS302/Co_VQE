{
 "cells": [
  {
   "attachments": {},
   "cell_type": "markdown",
   "metadata": {},
   "source": [
    "### 算 $H_2$的分子基态能量 使用uccsd方法"
   ]
  },
  {
   "cell_type": "code",
   "execution_count": 27,
   "metadata": {},
   "outputs": [],
   "source": [
    "from qiskit_nature.second_q.circuit.library import UCCSD,HartreeFock\n",
    "from qiskit_nature.second_q.drivers import PySCFDriver\n",
    "from qiskit_nature.second_q.formats import MoleculeInfo\n",
    "from qiskit_nature.second_q.mappers import JordanWignerMapper, QubitConverter\n",
    "from qiskit.algorithms import VQE\n",
    "import qiskit"
   ]
  },
  {
   "cell_type": "code",
   "execution_count": 20,
   "metadata": {},
   "outputs": [],
   "source": [
    "molecule = MoleculeInfo(\n",
    "    #[\"H\", \"H\",\"H\",\"H\"], [(0.0, 0.0, 0.0), (0.0, 0.0, 0.9), (0.0, 0.0, 0.9*2), (0.0, 0.0, 0.9*3)],\n",
    "    [\"H\", \"H\"], [(0.0, 0.0, 0.0), (0.0, 0.0, 1.4),],\n",
    "    multiplicity=1,  # = 2*spin + 1\n",
    "    charge=0,\n",
    ")\n",
    "driver = PySCFDriver().from_molecule(molecule)\n",
    "problem = driver.run()\n",
    "converter = QubitConverter(JordanWignerMapper())"
   ]
  },
  {
   "cell_type": "code",
   "execution_count": 21,
   "metadata": {},
   "outputs": [
    {
     "data": {
      "text/plain": [
       "0.37798372208571435"
      ]
     },
     "execution_count": 21,
     "metadata": {},
     "output_type": "execute_result"
    }
   ],
   "source": [
    "problem.nuclear_repulsion_energy # background part "
   ]
  },
  {
   "cell_type": "code",
   "execution_count": 22,
   "metadata": {},
   "outputs": [
    {
     "data": {
      "image/png": "[encoded data removed]",
      "text/plain": [
       "<Figure size 371.107x367.889 with 1 Axes>"
      ]
     },
     "execution_count": 22,
     "metadata": {},
     "output_type": "execute_result"
    }
   ],
   "source": [
    "harteefock= HartreeFock(num_particles=problem._num_particles,\n",
    "                        num_spatial_orbitals=problem.num_spatial_orbitals,\n",
    "                        qubit_converter=converter)\n",
    "uccsd =UCCSD(num_spatial_orbitals=problem.num_spatial_orbitals,\n",
    "             num_particles=problem.num_particles,\n",
    "             qubit_converter=converter,\n",
    "             initial_state=harteefock)\n",
    "uccsd.draw(\"mpl\")"
   ]
  },
  {
   "cell_type": "code",
   "execution_count": 23,
   "metadata": {},
   "outputs": [],
   "source": [
    "backend = qiskit.BasicAer.get_backend(\"statevector_simulator\")\n",
    "vqe= VQE(ansatz=uccsd,quantum_instance=backend)"
   ]
  },
  {
   "cell_type": "code",
   "execution_count": 24,
   "metadata": {},
   "outputs": [],
   "source": [
    "result= vqe.compute_minimum_eigenvalue(converter.convert(problem.hamiltonian.second_q_op()))"
   ]
  },
  {
   "cell_type": "code",
   "execution_count": 25,
   "metadata": {},
   "outputs": [
    {
     "data": {
      "text/plain": [
       "{'_eigenvalue': (-1.3934519691524385+0j),\n",
       " '_eigenstate': array([ 0.00000000e+00+0.00000000e+00j,  0.00000000e+00+0.00000000e+00j,\n",
       "         0.00000000e+00+0.00000000e+00j,  0.00000000e+00+0.00000000e+00j,\n",
       "         0.00000000e+00+0.00000000e+00j,  9.49115970e-01-2.93580168e-15j,\n",
       "         8.14654071e-08+9.81306789e-18j, -2.53448631e-16+1.23512311e-15j,\n",
       "         0.00000000e+00+0.00000000e+00j, -3.28049632e-08+3.18925051e-17j,\n",
       "        -3.14926779e-01+8.13800559e-16j,  0.00000000e+00+0.00000000e+00j,\n",
       "         0.00000000e+00+0.00000000e+00j,  0.00000000e+00+0.00000000e+00j,\n",
       "         0.00000000e+00+0.00000000e+00j,  0.00000000e+00+0.00000000e+00j]),\n",
       " '_aux_operator_eigenvalues': None,\n",
       " '_optimizer_evals': None,\n",
       " '_optimizer_time': 0.1396632194519043,\n",
       " '_optimal_value': -1.3934519691524385,\n",
       " '_optimal_point': array([-8.14654069e-08,  3.28049631e-08, -3.20379506e-01]),\n",
       " '_optimal_parameters': {ParameterVectorElement(t[0]): -8.146540692003211e-08,\n",
       "  ParameterVectorElement(t[1]): 3.2804963071307276e-08,\n",
       "  ParameterVectorElement(t[2]): -0.32037950610200183},\n",
       " '_optimizer_result': None,\n",
       " '_optimal_circuit': None,\n",
       " '_cost_function_evals': 16}"
      ]
     },
     "execution_count": 25,
     "metadata": {},
     "output_type": "execute_result"
    }
   ],
   "source": [
    "result.__dict__"
   ]
  },
  {
   "cell_type": "code",
   "execution_count": null,
   "metadata": {},
   "outputs": [],
   "source": [
    "uccsd.num_parameters"
   ]
  },
  {
   "cell_type": "code",
   "execution_count": 28,
   "metadata": {},
   "outputs": [],
   "source": [
    "def h2(dist):\n",
    "    molecule = MoleculeInfo(\n",
    "    #[\"H\", \"H\",\"H\",\"H\"], [(0.0, 0.0, 0.0), (0.0, 0.0, 0.9), (0.0, 0.0, 0.9*2), (0.0, 0.0, 0.9*3)],\n",
    "    [\"H\", \"H\"], [(0.0, 0.0, 0.0), (0.0, 0.0,dist),],\n",
    "    multiplicity=1,  # = 2*spin + 1\n",
    "    charge=0,\n",
    "    )\n",
    "    driver = PySCFDriver().from_molecule(molecule)\n",
    "    problem = driver.run()\n",
    "    harteefock= HartreeFock(num_particles=problem._num_particles,\n",
    "                        num_spatial_orbitals=problem.num_spatial_orbitals,\n",
    "                        qubit_converter=converter)\n",
    "    uccsd =UCCSD(num_spatial_orbitals=problem.num_spatial_orbitals,\n",
    "             num_particles=problem.num_particles,\n",
    "             qubit_converter=converter,\n",
    "             initial_state=harteefock)\n",
    "    backend = qiskit.BasicAer.get_backend(\"statevector_simulator\")\n",
    "    vqe= VQE(ansatz=uccsd,quantum_instance=backend)\n",
    "    result = vqe.compute_minimum_eigenvalue(converter.convert(problem.hamiltonian.second_q_op()))\n",
    "    return result.optimal_value,problem.nuclear_repulsion_energy"
   ]
  },
  {
   "cell_type": "code",
   "execution_count": 29,
   "metadata": {},
   "outputs": [],
   "source": [
    "import numpy as np\n",
    "x=[]\n",
    "for i in np.arange(0.5,4.0,0.2):\n",
    "    a,b = h2(i)\n",
    "    x.append(a+b)"
   ]
  },
  {
   "cell_type": "code",
   "execution_count": 30,
   "metadata": {},
   "outputs": [
    {
     "data": {
      "text/plain": [
       "[-1.0551597944482392,\n",
       " -1.1361894540110127,\n",
       " -1.1205601297748005,\n",
       " -1.0791929449548885,\n",
       " -1.0351862637923497,\n",
       " -0.9981493525205963,\n",
       " -0.9714266884527885,\n",
       " -0.9543388539974347,\n",
       " -0.9443746796826821,\n",
       " -0.9389223672162019,\n",
       " -0.936054855899651,\n",
       " -0.9345843026025017,\n",
       " -0.9338456108336157,\n",
       " -0.9334827987104075,\n",
       " -0.9333091431375672,\n",
       " -0.9332282932942969,\n",
       " -0.9331916688459175,\n",
       " -0.9331755029997398]"
      ]
     },
     "execution_count": 30,
     "metadata": {},
     "output_type": "execute_result"
    }
   ],
   "source": [
    "x"
   ]
  },
  {
   "cell_type": "code",
   "execution_count": 31,
   "metadata": {},
   "outputs": [
    {
     "data": {
      "text/plain": [
       "[<matplotlib.lines.Line2D at 0x7f30ccdf7190>]"
      ]
     },
     "execution_count": 31,
     "metadata": {},
     "output_type": "execute_result"
    },
    {
     "data": {
      "image/png": "[encoded data removed]",
      "text/plain": [
       "<Figure size 640x480 with 1 Axes>"
      ]
     },
     "metadata": {},
     "output_type": "display_data"
    }
   ],
   "source": [
    "import matplotlib.pyplot as plt\n",
    "plt.figure()\n",
    "plt.plot(np.arange(0.5,4.0,0.2),x)"
   ]
  }
 ],
 "metadata": {
  "kernelspec": {
   "display_name": "Python 3",
   "language": "python",
   "name": "python3"
  },
  "language_info": {
   "codemirror_mode": {
    "name": "ipython",
    "version": 3
   },
   "file_extension": ".py",
   "mimetype": "text/x-python",
   "name": "python",
   "nbconvert_exporter": "python",
   "pygments_lexer": "ipython3",
   "version": "3.10.4"
  },
  "orig_nbformat": 4
 },
 "nbformat": 4,
 "nbformat_minor": 2
}
